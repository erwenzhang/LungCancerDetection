{
 "cells": [
  {
   "cell_type": "code",
   "execution_count": 2,
   "metadata": {
    "collapsed": false
   },
   "outputs": [],
   "source": [
    "%matplotlib inline\n",
    "\n",
    "import numpy as np \n",
    "import pandas as pd \n",
    "import dicom\n",
    "import os\n",
    "import scipy.ndimage\n",
    "import matplotlib.pyplot as plt\n",
    "\n",
    "from skimage import measure, morphology\n",
    "from mpl_toolkits.mplot3d.art3d import Poly3DCollection\n",
    "\n",
    "INPUT_FOLDER = 'input/sample_images/'"
   ]
  },
  {
   "cell_type": "code",
   "execution_count": 5,
   "metadata": {
    "collapsed": true
   },
   "outputs": [],
   "source": [
    "def load_slices(path):\n",
    "    all_slices = []\n",
    "    patients = os.listdir(path)\n",
    "    patients.sort()\n",
    "    patients = patients[1:]\n",
    "    for patient in patients:\n",
    "        slices = []\n",
    "        for s in os.listdir(path + patient): \n",
    "            if s[-4:] == '.dcm':\n",
    "                slices.append(dicom.read_file(path + patient + '/' + s))   \n",
    "                slices.sort(key = lambda x: float(x.ImagePositionPatient[2]))\n",
    "    \n",
    "        slices.sort(key = lambda x: float(x.ImagePositionPatient[2]))\n",
    "        try:\n",
    "            slice_thickness = np.abs(slices[10].ImagePositionPatient[2] - slices[0].ImagePositionPatient[2])/10\n",
    "        except:\n",
    "            slice_thickness = np.abs(slices[10].SliceLocation - slices[0].SliceLocation)/10\n",
    "        for s in slices:\n",
    "            s.SliceThickness = slice_thickness\n",
    "        all_slices.append(slices)  \n",
    "    return all_slices"
   ]
  },
  {
   "cell_type": "code",
   "execution_count": 6,
   "metadata": {
    "collapsed": true
   },
   "outputs": [],
   "source": [
    "#all_slices is a nested array, one object in all_slices is slices of one patient\n",
    "#In this way, all_slices stores slices for all patients\n",
    "all_slices = load_slices(INPUT_FOLDER)"
   ]
  },
  {
   "cell_type": "code",
   "execution_count": 16,
   "metadata": {
    "collapsed": true
   },
   "outputs": [],
   "source": [
    "def convert_to_HU(slices):\n",
    "    #images is 3d array, it stores 2d pixel_arrays from each slice belonging to a patient\n",
    "    images = np.stack([s.pixel_array for s in slices])\n",
    "    images = images.astype(np.int16)\n",
    "\n",
    "    # Set outside-of-scan pixels to 0\n",
    "    images[images == -2000] = 0\n",
    "    \n",
    "    # Convert to Hounsfield units (HU)\n",
    "    for slice_number in range(len(slices)):      \n",
    "        intercept = slices[slice_number].RescaleIntercept\n",
    "        slope = slices[slice_number].RescaleSlope\n",
    "        \n",
    "        if slope != 1:\n",
    "            images[slice_number] = slope * images[slice_number].astype(np.float64)\n",
    "            images[slice_number] = images[slice_number].astype(np.int16)\n",
    "            \n",
    "        images[slice_number] += np.int16(intercept)\n",
    "    \n",
    "    return np.array(images, dtype=np.int16)"
   ]
  },
  {
   "cell_type": "code",
   "execution_count": 26,
   "metadata": {
    "collapsed": true
   },
   "outputs": [],
   "source": [
    "def resample(images, slices, new_spacing=[1,1,1]):\n",
    "    # Determine current pixel spacing\n",
    "    spacing = np.array([slices[0].SliceThickness] + slices[0].PixelSpacing, dtype=np.float32)\n",
    "    resize_factor = spacing / new_spacing\n",
    "    new_real_shape = images.shape * resize_factor\n",
    "    new_shape = np.round(new_real_shape)\n",
    "    real_resize_factor = new_shape / images.shape\n",
    "    new_spacing = spacing / real_resize_factor\n",
    "    \n",
    "    images = scipy.ndimage.interpolation.zoom(images, real_resize_factor, mode='nearest')\n",
    "    \n",
    "    return images, new_spacing"
   ]
  },
  {
   "cell_type": "code",
   "execution_count": 28,
   "metadata": {
    "collapsed": false
   },
   "outputs": [
    {
     "name": "stdout",
     "output_type": "stream",
     "text": [
      "(134, 512, 512)\n",
      "(335, 306, 306)\n",
      "(128, 512, 512)\n",
      "(320, 347, 347)\n",
      "(133, 512, 512)\n",
      "(332, 340, 340)\n",
      "(110, 512, 512)\n",
      "(275, 320, 320)\n",
      "(203, 512, 512)\n",
      "(365, 279, 279)\n",
      "(196, 512, 512)\n",
      "(353, 360, 360)\n",
      "(280, 512, 512)\n",
      "(350, 340, 340)\n",
      "(123, 512, 512)\n",
      "(308, 355, 355)\n",
      "(164, 512, 512)\n",
      "(328, 360, 360)\n",
      "(244, 512, 512)\n",
      "(305, 390, 390)\n",
      "(136, 512, 512)\n",
      "(272, 330, 330)\n",
      "(180, 512, 512)\n",
      "(360, 350, 350)\n",
      "(221, 512, 512)\n",
      "(398, 309, 309)\n",
      "(147, 512, 512)\n",
      "(294, 300, 300)\n",
      "(435, 512, 512)\n",
      "(304, 424, 424)\n",
      "(183, 512, 512)\n",
      "(366, 370, 370)\n",
      "(126, 512, 512)\n",
      "(315, 310, 310)\n",
      "(177, 512, 512)\n",
      "(354, 259, 259)\n",
      "(171, 512, 512)\n",
      "(342, 392, 392)\n",
      "(113, 512, 512)\n",
      "(282, 308, 308)\n"
     ]
    }
   ],
   "source": [
    "all_resampled = []\n",
    "all_spacing = []\n",
    "for slices in all_slices:\n",
    "    pixels_HU = convert_to_HU(slices)\n",
    "    pixels_resampled, spacing  = resample(pixels_HU, slices, [1,1,1]) \n",
    "    all_resampled.append(pixels_resampled)\n",
    "    all_spacing.append(spacing)\n",
    "    print(pixels_HU.shape)\n",
    "    print(pixels_resampled.shape)"
   ]
  },
  {
   "cell_type": "code",
   "execution_count": 30,
   "metadata": {
    "collapsed": true
   },
   "outputs": [],
   "source": [
    "def largest_label_volume(im, bg=-1):\n",
    "    vals, counts = np.unique(im, return_counts=True)\n",
    "\n",
    "    counts = counts[vals != bg]\n",
    "    vals = vals[vals != bg]\n",
    "\n",
    "    if len(counts) > 0:\n",
    "        return vals[np.argmax(counts)]\n",
    "    else:\n",
    "        return None\n",
    "\n",
    "def segment_lung_mask(pixels, fill_lung_structures=True):\n",
    "    # 0 is treated as background, which is non-ROI\n",
    "    # Use -320 as a threshold based on wikipedia and the histogram we generated above\n",
    "    binary_image = np.array(pixels > -320, dtype=np.int8)+1\n",
    "    \n",
    "    #label connnected regions with an integer\n",
    "    labels = measure.label(binary_image)\n",
    "    \n",
    "    # Pick the pixel in the very corner to determine which label is air.\n",
    "    #   Improvement: Pick multiple background labels from around the patient\n",
    "    #   More resistant to \"trays\" on which the patient lays cutting the air \n",
    "    #   around the person in half\n",
    "    background_label = labels[0,0,0]\n",
    "    \n",
    "    #Fill the air around the person\n",
    "    binary_image[background_label == labels] = 2\n",
    "     \n",
    "    # Method of filling the lung structures (that is superior to something like \n",
    "    # morphological closing)\n",
    "    if fill_lung_structures:\n",
    "        for i, axial_slice in enumerate(binary_image):\n",
    "            axial_slice = axial_slice - 1\n",
    "            labeling = measure.label(axial_slice)\n",
    "            l_max = largest_label_volume(labeling, bg=0)\n",
    "            \n",
    "            if l_max is not None: \n",
    "                binary_image[i][labeling != l_max] = 1\n",
    "\n",
    "    \n",
    "    binary_image -= 1 \n",
    "    binary_image = 1-binary_image # Invert it, lungs are now 1\n",
    "    \n",
    "    labels = measure.label(binary_image, background=0)\n",
    "    l_max = largest_label_volume(labels, bg=0)\n",
    "    if l_max is not None: \n",
    "        binary_image[labels != l_max] = 0\n",
    " \n",
    "    return binary_image"
   ]
  },
  {
   "cell_type": "code",
   "execution_count": 31,
   "metadata": {
    "collapsed": true
   },
   "outputs": [],
   "source": [
    "MIN_BOUND = -1000.0\n",
    "MAX_BOUND = 400.0\n",
    "    \n",
    "def normalize(image):\n",
    "    image = (image - MIN_BOUND) / (MAX_BOUND - MIN_BOUND)\n",
    "    image[image>1] = 1.\n",
    "    image[image<0] = 0.\n",
    "    return image\n",
    "\n",
    "PIXEL_MEAN = 0.25\n",
    "\n",
    "def zero_center(image):\n",
    "    image = image - PIXEL_MEAN\n",
    "    return image"
   ]
  },
  {
   "cell_type": "code",
   "execution_count": 33,
   "metadata": {
    "collapsed": false
   },
   "outputs": [],
   "source": [
    "from skimage.morphology import disk,ball\n",
    "from skimage import morphology\n",
    "\n",
    "all_images = []\n",
    "for pixel_resampled in all_resampled:\n",
    "    segmented_lungs_fill = segment_lung_mask(pixel_resampled, True)\n",
    "    eroded = morphology.erosion(segmented_lungs_fill,ball(1))\n",
    "    dilation = morphology.dilation(eroded,ball(3))\n",
    "    images = np.multiply(dilation, pixel_resampled)\n",
    "\n",
    "    images = normalize(images)\n",
    "    images = zero_center(images)\n",
    "    all_images.append(images)"
   ]
  },
  {
   "cell_type": "code",
   "execution_count": null,
   "metadata": {
    "collapsed": true
   },
   "outputs": [],
   "source": []
  }
 ],
 "metadata": {
  "anaconda-cloud": {},
  "kernelspec": {
   "display_name": "Python [conda root]",
   "language": "python",
   "name": "conda-root-py"
  },
  "language_info": {
   "codemirror_mode": {
    "name": "ipython",
    "version": 3
   },
   "file_extension": ".py",
   "mimetype": "text/x-python",
   "name": "python",
   "nbconvert_exporter": "python",
   "pygments_lexer": "ipython3",
   "version": "3.5.2"
  }
 },
 "nbformat": 4,
 "nbformat_minor": 1
}
